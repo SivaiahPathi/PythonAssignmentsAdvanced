{
 "cells": [
  {
   "cell_type": "markdown",
   "id": "53f1fd72",
   "metadata": {},
   "source": [
    "Q1. Describe three applications for exception processing.\n",
    "There are three types of exception—the checked exception, the error and the runtime exception"
   ]
  },
  {
   "cell_type": "markdown",
   "id": "e445db8e",
   "metadata": {},
   "source": [
    "Q2. What happens if you don't do something extra to treat an exception?\n",
    "When an exception occurred, if you don't handle it, the program terminates abruptly and the code past the line that caused the exception will not get executed."
   ]
  },
  {
   "cell_type": "markdown",
   "id": "3b264b0e",
   "metadata": {},
   "source": [
    "Q3. What are your options for recovering from an exception in your script?\n",
    "Try and Except Statement - Catching Exceptions\n",
    "In Python, we catch exceptions and handle them using try and except code blocks. The try clause contains the code that can raise an exception, while the except clause contains the code lines that handle the exception."
   ]
  },
  {
   "cell_type": "markdown",
   "id": "f01f15c3",
   "metadata": {},
   "source": [
    "Q4. Describe two methods for triggering exceptions in your script.\n",
    "To avoid such a scenario, there are two methods to handle Python exceptions: Try – This method catches the exceptions raised by the program. Raise – Triggers an exception manually using custom exceptions."
   ]
  },
  {
   "cell_type": "markdown",
   "id": "e88d2909",
   "metadata": {},
   "source": [
    "Q5. Identify two methods for specifying actions to be executed at termination time, regardless of whether or not an exception exists.\n",
    "The statements in the finally block will always be executed, whether an exception is thrown or not. This clause is used to close the resources used in a code."
   ]
  },
  {
   "cell_type": "markdown",
   "id": "b1922ab3",
   "metadata": {},
   "source": []
  }
 ],
 "metadata": {
  "kernelspec": {
   "display_name": "Python 3 (ipykernel)",
   "language": "python",
   "name": "python3"
  },
  "language_info": {
   "codemirror_mode": {
    "name": "ipython",
    "version": 3
   },
   "file_extension": ".py",
   "mimetype": "text/x-python",
   "name": "python",
   "nbconvert_exporter": "python",
   "pygments_lexer": "ipython3",
   "version": "3.9.7"
  }
 },
 "nbformat": 4,
 "nbformat_minor": 5
}

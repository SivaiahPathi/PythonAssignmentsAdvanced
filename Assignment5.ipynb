{
 "cells": [
  {
   "cell_type": "markdown",
   "id": "5127a64c",
   "metadata": {},
   "source": [
    "Q1. What is the meaning of multiple inheritance?\n",
    "Multiple Inheritance denotes a scenario when a class derives from more than one base classes. Multilevel Inheritance means a class derives from a subclass making that subclass a parent for the new class. Multiple Inheritance is more complex and hence not used widely."
   ]
  },
  {
   "cell_type": "markdown",
   "id": "de7ebdfb",
   "metadata": {},
   "source": [
    "Q2. What is the concept of delegation?\n",
    "Multiple Inheritance denotes a scenario when a class derives from more than one base classes. Multilevel Inheritance means a class derives from a subclass making that subclass a parent for the new class. Multiple Inheritance is more complex and hence not used widely."
   ]
  },
  {
   "cell_type": "markdown",
   "id": "79da8bae",
   "metadata": {},
   "source": [
    "Q3. What is the concept of composition?\n",
    "Composition is a concept that models a has a relationship. It enables creating complex types by combining objects of other types. This means that a class Composite can contain an object of another class Component . This relationship means that a Composite has a Component ."
   ]
  },
  {
   "cell_type": "markdown",
   "id": "d615d5e3",
   "metadata": {},
   "source": [
    "Q4. What are bound methods and how do we use them?\n",
    "A bound method is the one which is dependent on the instance of the class as the first argument. It passes the instance as the first argument which is used to access the variables and functions. In Python 3 and newer versions of python, all functions in the class are by default bound methods."
   ]
  },
  {
   "cell_type": "markdown",
   "id": "73193f4e",
   "metadata": {},
   "source": [
    "Q5. What is the purpose of pseudoprivate attributes?\n",
    "This is sometimes misleadingly called private attributes really, it's just a way to localize a name to the class that created it, and does not prevent access by code outside the class. That is, this feature is mostly intended to avoid namespace collisions in instances, not to restrict access to names in general.\n"
   ]
  }
 ],
 "metadata": {
  "kernelspec": {
   "display_name": "Python 3 (ipykernel)",
   "language": "python",
   "name": "python3"
  },
  "language_info": {
   "codemirror_mode": {
    "name": "ipython",
    "version": 3
   },
   "file_extension": ".py",
   "mimetype": "text/x-python",
   "name": "python",
   "nbconvert_exporter": "python",
   "pygments_lexer": "ipython3",
   "version": "3.9.7"
  }
 },
 "nbformat": 4,
 "nbformat_minor": 5
}

{
 "cells": [
  {
   "cell_type": "markdown",
   "id": "24ba736c",
   "metadata": {},
   "source": [
    "Q1. What is the purpose of Python's OOP?\n",
    "a.In Python, object-oriented Programming (OOPs) is a programming paradigm that uses objects and classes in programming. It aims to implement real-world entities like inheritance, polymorphisms, encapsulation, etc. in the programming."
   ]
  },
  {
   "cell_type": "markdown",
   "id": "7e2c9e6b",
   "metadata": {},
   "source": [
    "Q2. Where does an inheritance search look for an attribute?\n",
    "A.The whole point of a namespace tool like the class statement is to support name inheritance. In Python, inheritance happens when an object is qualified, and involves searching an attribute definition tree (one or more namespaces). Every time you use an expression of the form object."
   ]
  },
  {
   "cell_type": "markdown",
   "id": "f5b28112",
   "metadata": {},
   "source": [
    "Q3. How do you distinguish between a class object and an instance object?\n",
    "An object is an instance of a class. When a class is created, no memory is allocated. Objects are allocated memory space whenever they are created. The class has to be declared first and only once."
   ]
  },
  {
   "cell_type": "markdown",
   "id": "a7fc118c",
   "metadata": {},
   "source": [
    "Q4. What makes the first argument in a class’s method function special?\n",
    "A.The calling process is automatic while the receiving process is not (its explicit). This is the reason the first parameter of a function in class must be the object itself. Writing this parameter as self is merely a convention. It is not a keyword and has no special meaning in Python."
   ]
  },
  {
   "cell_type": "markdown",
   "id": "4b6f7d5a",
   "metadata": {},
   "source": [
    "Q5. What is the purpose of the __init__ method?\n",
    "A.The __init__ method lets the class initialize the object's attributes and serves no other purpose. It is only used within classes."
   ]
  },
  {
   "cell_type": "markdown",
   "id": "de4117c0",
   "metadata": {},
   "source": [
    "Q6. What is the process for creating a class instance?\n",
    "A.The new operator requires a single, postfix argument: a call to a constructor. The name of the constructor provides the name of the class to instantiate. The new operator returns a reference to the object it created"
   ]
  },
  {
   "cell_type": "markdown",
   "id": "37838d59",
   "metadata": {},
   "source": [
    "Q7. What is the process for creating a class?\n",
    "Create a Class. To create a class, use the keyword class : ...\n",
    "Create Object. Now we can use the class named MyClass to create objects: ...\n",
    "The self Parameter. ...\n",
    "Modify Object Properties. ...\n",
    "Delete Object Properties. ...\n",
    "Delete Objects."
   ]
  },
  {
   "cell_type": "markdown",
   "id": "ec9df091",
   "metadata": {},
   "source": [
    "Q8. How would you define the superclasses of a class?\n",
    "A superclass is the class from which many subclasses can be created. The subclasses inherit the characteristics of a superclass. The superclass is also known as the parent class or base class. In the above example, Vehicle is the Superclass and its subclasses are Car, Truck and Motorcycle."
   ]
  }
 ],
 "metadata": {
  "kernelspec": {
   "display_name": "Python 3 (ipykernel)",
   "language": "python",
   "name": "python3"
  },
  "language_info": {
   "codemirror_mode": {
    "name": "ipython",
    "version": 3
   },
   "file_extension": ".py",
   "mimetype": "text/x-python",
   "name": "python",
   "nbconvert_exporter": "python",
   "pygments_lexer": "ipython3",
   "version": "3.9.7"
  }
 },
 "nbformat": 4,
 "nbformat_minor": 5
}

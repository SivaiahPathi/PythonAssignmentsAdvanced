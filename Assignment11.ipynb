{
 "cells": [
  {
   "cell_type": "markdown",
   "id": "9990deb0",
   "metadata": {},
   "source": [
    "Q1. What is the concept of a metaclass?\n",
    "A metaclass in Python is a class of a class that defines how a class behaves. A class is itself an instance of a metaclass. A class in Python defines how the instance of the class will behave. In order to understand metaclasses well, one needs to have prior experience working with Python classes."
   ]
  },
  {
   "cell_type": "markdown",
   "id": "4feed1c4",
   "metadata": {},
   "source": [
    "Q2. What is the best way to declare a class's metaclass?\n",
    "They are as follows:\n",
    "The first argument is the metaclass itself.\n",
    "The second argument is the class name.\n",
    "The third argument is the superclasses (in the form of tuple)\n",
    "The fourth argument is the attributes of class (in the form of dictiona"
   ]
  },
  {
   "cell_type": "markdown",
   "id": "c3148d58",
   "metadata": {},
   "source": [
    "Q3. How do class decorators overlap with metaclasses for handling classes?\n",
    "Although metaclasses allow you to customize class creation in multiple ways (see Item 48: “Validate Subclasses with __init_subclass__” and Item 49: “Register Class Existence with __init_subclass__”), they still fall short of handling every situation that may arise.\n",
    "\n",
    "For example, say that I want to decorate all of the methods of a class with a helper that prints arguments, return values, and exceptions raised. Here, I define the debugging decorator (see Item 26: “Define Function Decorators with functools.wraps” for background):"
   ]
  },
  {
   "cell_type": "markdown",
   "id": "2e787492",
   "metadata": {},
   "source": [
    "Q4. How do class decorators overlap with metaclasses for handling instances?\n",
    "Decorators essentially automate the prior example's manual name rebinding here. Just like with metaclasses, because the decorator returns the original class, instances are made from it, not from a wrapper object. In fact, instance creation is not intercepted at all."
   ]
  }
 ],
 "metadata": {
  "kernelspec": {
   "display_name": "Python 3 (ipykernel)",
   "language": "python",
   "name": "python3"
  },
  "language_info": {
   "codemirror_mode": {
    "name": "ipython",
    "version": 3
   },
   "file_extension": ".py",
   "mimetype": "text/x-python",
   "name": "python",
   "nbconvert_exporter": "python",
   "pygments_lexer": "ipython3",
   "version": "3.9.7"
  }
 },
 "nbformat": 4,
 "nbformat_minor": 5
}

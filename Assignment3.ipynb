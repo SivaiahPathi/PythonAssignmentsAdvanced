{
 "cells": [
  {
   "cell_type": "markdown",
   "id": "a6e2ac15",
   "metadata": {},
   "source": [
    "1. What is the concept of an abstract superclass?\n",
    "Abstract Super Class. A common superclass for several subclasses. Factor up common behavior. Define the methods they all respond to. Methods that subclasses should implement are declared abstract."
   ]
  },
  {
   "cell_type": "markdown",
   "id": "db1e1c19",
   "metadata": {},
   "source": [
    "2. What happens when a class statement's top level contains a basic assignment statement?\n",
    "An Assignment statement is a statement that is used to set a value to the variable name in a program. Assignment statement allows a variable to hold different types of values during its program lifespan"
   ]
  },
  {
   "cell_type": "markdown",
   "id": "d7ee01bc",
   "metadata": {},
   "source": [
    "3. Why does a class need to manually call a superclass's __init__ method?\n",
    "The main reason for always calling base class _init__ is that base class may typically create member variable and initialize them to defaults. So if you don't call base class init, none of that code would be executed and you would end up with base class that has no member variables."
   ]
  },
  {
   "cell_type": "markdown",
   "id": "a9c95477",
   "metadata": {},
   "source": [
    "4. How can you augment, instead of completely replacing, an inherited method?\n",
    "A more sophisticated way to augment an inherited method involves forwarding. Message forwarding allows you to augment an inherited method in such a way that it can perform its inherited action and some new action."
   ]
  },
  {
   "cell_type": "markdown",
   "id": "141a56e7",
   "metadata": {},
   "source": [
    "5. How is the local scope of a class different from that of a function?\n",
    "Function scope: Variables that are declared inside a function are called local variables and in the function scope. Local variables are accessible anywhere inside the function. Block scope: Variable that is declared inside a specific block & can't be accessed outside of that block."
   ]
  }
 ],
 "metadata": {
  "kernelspec": {
   "display_name": "Python 3 (ipykernel)",
   "language": "python",
   "name": "python3"
  },
  "language_info": {
   "codemirror_mode": {
    "name": "ipython",
    "version": 3
   },
   "file_extension": ".py",
   "mimetype": "text/x-python",
   "name": "python",
   "nbconvert_exporter": "python",
   "pygments_lexer": "ipython3",
   "version": "3.9.7"
  }
 },
 "nbformat": 4,
 "nbformat_minor": 5
}

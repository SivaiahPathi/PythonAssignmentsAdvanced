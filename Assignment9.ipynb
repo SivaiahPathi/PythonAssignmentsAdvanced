{
 "cells": [
  {
   "cell_type": "markdown",
   "id": "8423d415",
   "metadata": {},
   "source": [
    "Q1. In Python 3.X, what are the names and functions of string object types?\n",
    "Python String Methods.\n",
    "string capitalize() in Python.\n",
    "Python String casefold() Method.\n",
    "Python String center() Method.\n",
    "Python String count() Method.\n",
    "Python Strings encode() method.\n",
    "Python String endswith() Method.\n",
    "expandtabs() method in Python."
   ]
  },
  {
   "cell_type": "markdown",
   "id": "370e20a8",
   "metadata": {},
   "source": [
    "Q2. How do the string forms in Python 3.X vary in terms of operations?\n",
    "The built-in string class provides the ability to do complex variable substitutions and value formatting via the format() method described in PEP 3101. The Formatter class in the string module allows you to create and customize your own string formatting behaviors using the same implementation as the built-in format() method.\n",
    "\n",
    "class string.Formatter\n",
    "The Formatter class has the following public methods:\n",
    "\n",
    "format(format_string, /, *args, **kwargs)¶"
   ]
  },
  {
   "cell_type": "markdown",
   "id": "f29a22db",
   "metadata": {},
   "source": [
    "Q3. In 3.X, how do you put non-ASCII Unicode characters in a string?\n",
    "Python allows Unicode string literals to be specified by adding a u character prefix before the string literal: This will create a Unicode string and the label will be appear correctly. Using Python and Unicode is a large topic which is beyond the scope of this document."
   ]
  },
  {
   "cell_type": "markdown",
   "id": "5ef5ae83",
   "metadata": {},
   "source": [
    "Q4. In Python 3.X, what are the key differences between text-mode and binary-mode files?\n",
    "The two file types may look the same on the surface, but they encode data differently. While both binary and text files contain data stored as a series of bits (binary values of 1s and 0s), the bits in text files represent characters, while the bits in binary files represent custom data."
   ]
  },
  {
   "cell_type": "markdown",
   "id": "9f239c08",
   "metadata": {},
   "source": [
    "Q6. What is the best way to make a Unicode text file in a particular encoding format?\n",
    "unicode_text = u'ʑʒʓʔʕʗʘʙʚʛʜʝʞ'\n",
    "encoded_unicode = unicode_text. encode(\"utf8\")\n",
    "a_file = open(\"textfile.txt\", \"wb\")\n",
    "a_file. write(encoded_unicode)\n",
    "a_file = open(\"textfile.txt\", \"r\") r reads contents of a file.\n",
    "contents = a_file. ...\n",
    "print(contents\n"
   ]
  },
  {
   "cell_type": "markdown",
   "id": "c947210a",
   "metadata": {},
   "source": [
    "Q7. What qualifies ASCII text as a form of Unicode text?\n",
    "\n",
    "ASCII == UNICODE? For backward compatibility, the first 128 Unicode characters point to ASCII characters. And since UTF-8 encodes each of those characters using 1-byte. ASCII is essentially just UTF-8, or we can say that ASCII is a subset of Unicode."
   ]
  },
  {
   "cell_type": "markdown",
   "id": "610a7f30",
   "metadata": {},
   "source": [
    "Q8. How much of an effect does the change in string types in Python 3.X have on your code?\n",
    "What is the difference between Python 2 x and Python 3 x?\n",
    "In python 2. x, “print” is treated as a statement and python 3. x explicitly treats “print” as a function. This means we need to pass the items inside your print to the function parentheses in the standard way otherwise you will get a syntax error."
   ]
  },
  {
   "cell_type": "markdown",
   "id": "c5fad4e8",
   "metadata": {},
   "source": []
  },
  {
   "cell_type": "markdown",
   "id": "7bf3ee8f",
   "metadata": {},
   "source": []
  }
 ],
 "metadata": {
  "kernelspec": {
   "display_name": "Python 3 (ipykernel)",
   "language": "python",
   "name": "python3"
  },
  "language_info": {
   "codemirror_mode": {
    "name": "ipython",
    "version": 3
   },
   "file_extension": ".py",
   "mimetype": "text/x-python",
   "name": "python",
   "nbconvert_exporter": "python",
   "pygments_lexer": "ipython3",
   "version": "3.9.7"
  }
 },
 "nbformat": 4,
 "nbformat_minor": 5
}

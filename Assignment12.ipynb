{
 "cells": [
  {
   "cell_type": "markdown",
   "id": "8d47b39e",
   "metadata": {},
   "source": [
    "Q1. Does assigning a value to a string's indexed character violate Python's string immutability?\n",
    "Assigning a new value to an existing variable is perfectly valid. Python does not have constants. This is independent from data type mutability. You may want to take a look at the id() function."
   ]
  },
  {
   "cell_type": "markdown",
   "id": "be4bab58",
   "metadata": {},
   "source": [
    "Q2. Does using the += operator to concatenate strings violate Python's string immutability? Why or why not?\n",
    "It violates the rules of how ID values and += are supposed to work - the ID values produced with the optimization in place would be not only impossible, but prohibited, with the unoptimized semantics - but the developers care more about people who would see bad concatenation performance and assume Python sucks."
   ]
  },
  {
   "cell_type": "markdown",
   "id": "75014683",
   "metadata": {},
   "source": [
    "Q3. In Python, how many different ways are there to index a character?\n",
    "We can access characters in a String in Two ways : Accessing Characters by Positive Index Number. Accessing Characters by Negative Index Number."
   ]
  },
  {
   "cell_type": "markdown",
   "id": "09ba4184",
   "metadata": {},
   "source": [
    "Q4. What is the relationship between indexing and slicing?\n",
    "“Indexing” means referring to an element of an iterable by its position within the iterable. “Slicing” means getting a subset of elements from an iterable based on their indices."
   ]
  },
  {
   "cell_type": "markdown",
   "id": "261efc9f",
   "metadata": {},
   "source": [
    "Q5. What is an indexed character's exact data type? What is the data form of a slicing-generated substring?\n",
    "Note that indexing returns a string — Python has no special type for a single character. It is just a string of length 1.\n",
    "What is a substring data type?\n",
    "SUBSTRING is a string manipulation function that manipulates all string data types (BIT, BLOB, and CHARACTER), and extracts characters from a string to create another string."
   ]
  },
  {
   "cell_type": "markdown",
   "id": "03c2441b",
   "metadata": {},
   "source": [
    "Q6. What is the relationship between string and character \"types\" in Python?\n",
    "Like many other popular programming languages, strings in Python are arrays of bytes representing unicode characters. However, Python does not have a character data type, a single character is simply a string with a length of 1."
   ]
  },
  {
   "cell_type": "markdown",
   "id": "6e5e100c",
   "metadata": {},
   "source": [
    "Q7. Identify at least two operators and one method that allow you to combine one or more smaller strings to create a larger string.\n",
    "Using the % operator\n",
    "It is useful for cases in which you need to combine strings and also perform basic formatting. Here, we have declared two string variables “a”, and “b”with two different string values. Then, we concatenate the two strings with the help of the (“%”) and display the output using the print statement."
   ]
  },
  {
   "cell_type": "markdown",
   "id": "e8d05791",
   "metadata": {},
   "source": [
    "Q8. What is the benefit of first checking the target string with in or not in before using the index method to find a substring?\n",
    "The substring() method extracts characters, between two indices (positions), from a string, and returns the substring. The substring() method extracts characters from start to end (exclusive)."
   ]
  },
  {
   "cell_type": "markdown",
   "id": "48436b77",
   "metadata": {},
   "source": [
    "Q9. Which operators and built-in string methods produce simple Boolean (true/false) results?\n",
    "However, and and or are so useful that all programming languages have both. There are sixteen possible two-input Boolean operators. Except for and and or , they are rarely needed in practice. Because of this, True , False , not , and , and or are the only built-in Python Boolean operators."
   ]
  }
 ],
 "metadata": {
  "kernelspec": {
   "display_name": "Python 3 (ipykernel)",
   "language": "python",
   "name": "python3"
  },
  "language_info": {
   "codemirror_mode": {
    "name": "ipython",
    "version": 3
   },
   "file_extension": ".py",
   "mimetype": "text/x-python",
   "name": "python",
   "nbconvert_exporter": "python",
   "pygments_lexer": "ipython3",
   "version": "3.9.7"
  }
 },
 "nbformat": 4,
 "nbformat_minor": 5
}

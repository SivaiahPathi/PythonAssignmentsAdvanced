{
 "cells": [
  {
   "cell_type": "markdown",
   "id": "eb651e90",
   "metadata": {},
   "source": [
    "Q1. What are the two latest user-defined exception constraints in Python 3.X?\n",
    "User-Defined Exceptions in Python\n",
    "Some commonly raised Exceptions are ArithmeticError, AttributeError, ImportError, IOError, FileNotFoundError, etc."
   ]
  },
  {
   "cell_type": "markdown",
   "id": "da8e1f29",
   "metadata": {},
   "source": [
    "Q2. How are class-based exceptions that have been raised matched to handlers?\n",
    "Class-based exceptions are raised either by the ABAP runtime environment or by a program. Exception situations recognized by the system, and whose causes can be handled in the program, raise predefined class-based exceptions."
   ]
  },
  {
   "cell_type": "markdown",
   "id": "a1cfd17b",
   "metadata": {},
   "source": [
    "Q3. Describe two methods for attaching context information to exception artefacts.\n",
    "Enhanced Reporting,The default exception handler will be modified to report chained exceptions. The chain of exceptions is traversed by following the __cause__ and __context__ attributes, with __cause__ taking priority. In keeping with the chronological order of tracebacks, the most recently raised exception is displayed last; that is, the display begins with the description of the innermost exception and backs up the chain to the outermost exception. The tracebacks are formatted as usual, with one of the lines.\n",
    "\n",
    "\n",
    "Traceback Attribute:\n",
    "In today’s Python, the do_logged() function would have to extract the traceback from sys.exc_traceback or sys.exc_info() [2] and pass both the value and the traceback to write_exception(). With the proposed change, write_exception() simply gets one argument and obtains the exception using the __traceback__ attribute.\n",
    "\n",
    "The proposed semantics are as follows:\n",
    "\n",
    "Whenever an exception is caught, if the exception instance does not already have a __traceback__ attribute, the interpreter sets it to the newly caught traceback.\n"
   ]
  },
  {
   "cell_type": "markdown",
   "id": "3f7f0118",
   "metadata": {},
   "source": [
    "Q4. Describe two methods for specifying the text of an exception object's error message.\n",
    "exception Exception\n",
    "This is the base class for all built-in non-system-exiting exceptions. All user-defined exceptions should also be derived from this class.\n",
    "exception ArithmeticError\n",
    "This class is the base class for those built-in exceptions that are raised for various arithmetic errors such as :\n",
    "OverflowError\n",
    "ZeroDivisionError\n",
    "FloatingPointError\n"
   ]
  },
  {
   "cell_type": "markdown",
   "id": "dfa95c6c",
   "metadata": {},
   "source": [
    "Q5. Why do you no longer use string-based exceptions?\n",
    "Exceptions can be class objects or string objects. While traditionally, most exceptions have been string objects, in Python 1.5, all standard exceptions have been converted to class objects, and users are encouraged to do the same. The source code for those exceptions is present in the standard library module exceptions; this module never needs to be imported explicitly."
   ]
  }
 ],
 "metadata": {
  "kernelspec": {
   "display_name": "Python 3 (ipykernel)",
   "language": "python",
   "name": "python3"
  },
  "language_info": {
   "codemirror_mode": {
    "name": "ipython",
    "version": 3
   },
   "file_extension": ".py",
   "mimetype": "text/x-python",
   "name": "python",
   "nbconvert_exporter": "python",
   "pygments_lexer": "ipython3",
   "version": "3.9.7"
  }
 },
 "nbformat": 4,
 "nbformat_minor": 5
}
